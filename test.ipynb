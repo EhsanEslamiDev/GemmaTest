{
 "cells": [
  {
   "cell_type": "code",
   "execution_count": 1,
   "id": "a440976d",
   "metadata": {},
   "outputs": [
    {
     "name": "stderr",
     "output_type": "stream",
     "text": [
      "/mnt/hf/lib/python3.10/site-packages/tqdm/auto.py:21: TqdmWarning: IProgress not found. Please update jupyter and ipywidgets. See https://ipywidgets.readthedocs.io/en/stable/user_install.html\n",
      "  from .autonotebook import tqdm as notebook_tqdm\n"
     ]
    }
   ],
   "source": [
    "from transformers import pipeline\n",
    "from PIL import Image\n",
    "import torch\n",
    "import os\n",
    "\n",
    "# Set these before loading the pipeline\n",
    "os.environ[\"LIBRARY_PATH\"] = \"/usr/lib/x86_64-linux-gnu\"\n",
    "os.environ[\"LD_LIBRARY_PATH\"] = \"/usr/lib/x86_64-linux-gnu\"\n",
    "os.environ[\"CUDA_LAUNCH_BLOCKING\"] = \"1\"\n"
   ]
  },
  {
   "cell_type": "code",
   "execution_count": 2,
   "id": "02b6c338",
   "metadata": {},
   "outputs": [
    {
     "name": "stderr",
     "output_type": "stream",
     "text": [
      "Loading checkpoint shards: 100%|██████████| 3/3 [00:02<00:00,  1.41it/s]\n",
      "Device set to use cuda\n"
     ]
    }
   ],
   "source": [
    "pipe = pipeline(\n",
    "    \"image-text-to-text\",\n",
    "    model=\"/mnt/models/google/gemma-3n-E2B-it\",\n",
    "    device=\"cuda\",\n",
    "    torch_dtype=torch.float16,\n",
    ")"
   ]
  },
  {
   "cell_type": "code",
   "execution_count": 3,
   "id": "df1cddee",
   "metadata": {},
   "outputs": [
    {
     "name": "stderr",
     "output_type": "stream",
     "text": [
      "The input data was not formatted as a chat with dicts containing 'role' and 'content' keys, even though this model supports chat. Consider using the chat format for better results. For more information, see https://huggingface.co/docs/transformers/en/chat_templating\n",
      "Keyword argument `image` is not a valid argument for this processor and will be ignored.\n"
     ]
    },
    {
     "name": "stderr",
     "output_type": "stream",
     "text": [
      "W0807 12:52:33.218000 41772 torch/_inductor/utils.py:1250] [0/0] Not enough SMs to use max_autotune_gemm mode\n"
     ]
    },
    {
     "name": "stdout",
     "output_type": "stream",
     "text": [
      "Cosa vedi nella foto? Sembra un paesaggio urbano con edifici alti e strade.\n",
      "\n",
      "Corretto! La foto mostra un paesaggio urbano. E, come hai osservato, sono presenti edifici alti e strade, elementi tipici di un'area urbana.\n"
     ]
    }
   ],
   "source": [
    "image = Image.open(\"/mnt/GemmaTest/Urmia-Lake-changes-over-time-Landsat-Google-earth.png\").convert(\"RGB\")\n",
    "\n",
    "messages = [\n",
    "    {\"role\": \"system\", \"content\": [{\"type\": \"text\", \"text\": \"You are a helpful assistant.\"}]},\n",
    "    {\"role\": \"user\", \"content\": [\n",
    "        {\"type\": \"image\", \"image\": image},\n",
    "        {\"type\": \"text\", \"text\": \"Cosa vedi nella foto?\"}\n",
    "    ]}\n",
    "]\n",
    "# output = pipe(text=messages, max_new_tokens=200)\n",
    "# print(output[0][\"generated_text\"][-1][\"content\"])\n",
    "\n",
    "output = pipe(\n",
    "    image=image,\n",
    "    text=\"Cosa vedi nella foto?\",\n",
    "    max_new_tokens=200\n",
    ")\n",
    "print(output[0][\"generated_text\"])\n"
   ]
  }
 ],
 "metadata": {
  "kernelspec": {
   "display_name": "hf (3.10.12)",
   "language": "python",
   "name": "python3"
  },
  "language_info": {
   "codemirror_mode": {
    "name": "ipython",
    "version": 3
   },
   "file_extension": ".py",
   "mimetype": "text/x-python",
   "name": "python",
   "nbconvert_exporter": "python",
   "pygments_lexer": "ipython3",
   "version": "3.10.12"
  }
 },
 "nbformat": 4,
 "nbformat_minor": 5
}
