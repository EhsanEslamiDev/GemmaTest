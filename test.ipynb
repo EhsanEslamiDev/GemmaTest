{
 "cells": [
  {
   "cell_type": "code",
   "execution_count": 1,
   "id": "a440976d",
   "metadata": {},
   "outputs": [
    {
     "name": "stderr",
     "output_type": "stream",
     "text": [
      "/mnt/hf/lib/python3.10/site-packages/tqdm/auto.py:21: TqdmWarning: IProgress not found. Please update jupyter and ipywidgets. See https://ipywidgets.readthedocs.io/en/stable/user_install.html\n",
      "  from .autonotebook import tqdm as notebook_tqdm\n"
     ]
    }
   ],
   "source": [
    "from transformers import pipeline\n",
    "import torch\n",
    "import os\n"
   ]
  },
  {
   "cell_type": "code",
   "execution_count": 2,
   "id": "02b6c338",
   "metadata": {},
   "outputs": [
    {
     "name": "stderr",
     "output_type": "stream",
     "text": [
      "Device set to use cuda\n"
     ]
    }
   ],
   "source": [
    "pipe = pipeline(\"text-generation\", model=\"/mnt/models/google/gemma-3-1b-it\", device=\"cuda\", torch_dtype = torch.float16)"
   ]
  },
  {
   "cell_type": "code",
   "execution_count": 11,
   "id": "1b4203cc",
   "metadata": {},
   "outputs": [],
   "source": [
    "messages = [\n",
    "    [\n",
    "        {\n",
    "            \"role\": \"system\",\n",
    "            \"content\": [{\"type\": \"text\", \"text\": \"You are a helpful assistant.\"},]\n",
    "        },\n",
    "        {\n",
    "            \"role\": \"user\",\n",
    "            \"content\": [{\"type\": \"text\", \"text\": \"Write a poem on Hugging Face, the company\"},]\n",
    "        },\n",
    "    ],\n",
    "]\n",
    "\n",
    "output = pipe(messages, max_new_tokens=200)"
   ]
  },
  {
   "cell_type": "code",
   "execution_count": 12,
   "id": "f5f5071b",
   "metadata": {},
   "outputs": [
    {
     "name": "stdout",
     "output_type": "stream",
     "text": [
      "Okay, here's a poem about Hugging Face, aiming to capture the essence of the company – its community, its tools, and its impact:\n",
      "\n",
      "**The Neural Bloom**\n",
      "\n",
      "In shadows deep, where models reside,\n",
      "A digital world, where knowledge does preside.\n",
      "Hugging Face, a name both bright and bold,\n",
      "A hub of models, stories to be told.\n",
      "\n",
      "From transformers vast, to datasets keen,\n",
      "A community thrives, a vibrant, hopeful scene.\n",
      "With datasets shared, and models to explore,\n",
      "A collaborative spirit, forevermore.\n",
      "\n",
      "From PyTorch’s grace to TensorFlow’s might,\n",
      "A platform built for all, both day and night.\n",
      "Spaces bloom with code, a helping hand,\n",
      "To train and iterate, across the land.\n",
      "\n",
      "No longer lost, in silos stark and cold,\n",
      "A connected network, stories to unfold.\n",
      "For researchers, builders, learners keen,\n",
      "A vibrant ecosystem, a hopeful sheen.\n"
     ]
    }
   ],
   "source": [
    "print(output[0][0]['generated_text'][2]['content'])"
   ]
  }
 ],
 "metadata": {
  "kernelspec": {
   "display_name": "hf (3.10.12)",
   "language": "python",
   "name": "python3"
  },
  "language_info": {
   "codemirror_mode": {
    "name": "ipython",
    "version": 3
   },
   "file_extension": ".py",
   "mimetype": "text/x-python",
   "name": "python",
   "nbconvert_exporter": "python",
   "pygments_lexer": "ipython3",
   "version": "3.10.12"
  }
 },
 "nbformat": 4,
 "nbformat_minor": 5
}
